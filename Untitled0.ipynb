{
  "nbformat": 4,
  "nbformat_minor": 0,
  "metadata": {
    "colab": {
      "provenance": [],
      "toc_visible": true
    },
    "kernelspec": {
      "name": "python3",
      "display_name": "Python 3"
    },
    "language_info": {
      "name": "python"
    }
  },
  "cells": [
    {
      "cell_type": "code",
      "source": [
        "import numpy as np\n",
        "import matplotlib.pyplot as plt\n",
        "\n",
        "# Função para obter coordenadas da câmera e projeção\n",
        "def obter_coordenadas_camera_e_projecao(numero_camera):\n",
        "    print(f\"Digite os Dados da Camera {numero_camera}\")\n",
        "    xc = float(input(f\"Digite a coordenada x da câmera {numero_camera}: \"))\n",
        "    yc = float(input(f\"Digite a coordenada y da câmera {numero_camera}: \"))\n",
        "    print(f\"Digite os Dados da Projeção da Camera {numero_camera}\")\n",
        "    xp = float(input(f\"Digite a coordenada x da projeção da câmera {numero_camera}: \"))\n",
        "    yp = float(input(f\"Digite a coordenada y da projeção da câmera {numero_camera}: \"))\n",
        "    return xc, yc, xp, yp\n",
        "\n",
        "# Função para calcular a interseção das retas\n",
        "def calcular_intersecao(xc1, yc1, xp1, yp1, xc2, yc2, xp2, yp2):\n",
        "    mr1 = (yp1 - yc1) / (xp1 - xc1)\n",
        "    mr2 = (yp2 - yc2) / (xp2 - xc2)\n",
        "    xi = (-(mr2 * xc2) + yc2 + (mr1 * xc1) - yc1) / (mr1 - mr2)\n",
        "    yi = mr1 * xi - (mr1 * xc1) + yc1\n",
        "    return xi, yi\n",
        "\n",
        "# Obter coordenadas da Camera 1 e Projeção 1\n",
        "xc1, yc1, xp1, yp1 = obter_coordenadas_camera_e_projecao(1)\n",
        "\n",
        "# Obter coordenadas da Camera 2 e Projeção 2\n",
        "xc2, yc2, xp2, yp2 = obter_coordenadas_camera_e_projecao(2)\n",
        "\n",
        "# Calcular a interseção das retas\n",
        "xi, yi = calcular_intersecao(xc1, yc1, xp1, yp1, xc2, yc2, xp2, yp2)\n",
        "\n",
        "# Exibir resultados\n",
        "print(f\"xi = {xi}\")\n",
        "print(f\"yi = {yi}\")\n",
        "\n",
        "# Criar gráfico\n",
        "x = np.linspace(0, 3, 100)\n",
        "y1 = (yp1 - yc1) / (xp1 - xc1) * (x - xc1) + yc1\n",
        "y2 = (yp2 - yc2) / (xp2 - xc2) * (x - xc2) + yc2\n",
        "\n",
        "plt.plot(x, y1, label='Projeção da Camera 1')\n",
        "plt.plot(x, y2, label='Projeção da Camera 2')\n",
        "plt.scatter(xi, yi, color='green', label='Posição do Objeto')\n",
        "plt.scatter(xc1, yc1, color='red', label='Camera 1')\n",
        "plt.scatter(xc2, yc2, color='purple', label='Camera 2')\n",
        "\n",
        "plt.xlabel('x - axis')\n",
        "plt.ylabel('y - axis')\n",
        "plt.title(\"Cruzamento de Retas\")\n",
        "plt.legend()\n",
        "plt.show()\n"
      ],
      "metadata": {
        "id": "HFp9GiUA-z84"
      },
      "execution_count": null,
      "outputs": []
    }
  ]
}